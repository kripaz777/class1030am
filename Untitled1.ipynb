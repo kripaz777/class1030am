{
 "cells": [
  {
   "cell_type": "code",
   "execution_count": 6,
   "metadata": {},
   "outputs": [
    {
     "name": "stdout",
     "output_type": "stream",
     "text": [
      "Hello world\n"
     ]
    }
   ],
   "source": [
    "def outer_function(fun):\n",
    "    \n",
    "    def inner_function():\n",
    "        x =fun()\n",
    "    return inner_function()\n",
    "\n",
    "@outer_function\n",
    "def hello():\n",
    "    print(\"Hello world\")\n"
   ]
  },
  {
   "cell_type": "code",
   "execution_count": 9,
   "metadata": {},
   "outputs": [
    {
     "data": {
      "text/plain": [
       "'hellow world'"
      ]
     },
     "execution_count": 9,
     "metadata": {},
     "output_type": "execute_result"
    }
   ],
   "source": [
    "def strings(function):\n",
    "    def wrapper():\n",
    "        fun = function()\n",
    "        x = fun.lower()\n",
    "        return x\n",
    "    return wrapper\n",
    "\n",
    "@strings\n",
    "def info():\n",
    "    return 'Hellow World'\n",
    "\n",
    "info()"
   ]
  },
  {
   "cell_type": "code",
   "execution_count": 10,
   "metadata": {},
   "outputs": [
    {
     "data": {
      "text/plain": [
       "['hellow', 'world']"
      ]
     },
     "execution_count": 10,
     "metadata": {},
     "output_type": "execute_result"
    }
   ],
   "source": [
    "def strings(function):\n",
    "    def wrapper():\n",
    "        fun = function()\n",
    "        x = fun.lower()\n",
    "        return x\n",
    "    return wrapper\n",
    "def split_string(function):\n",
    "    def wrappe():\n",
    "        func = function()\n",
    "        splitted_string = func.split()\n",
    "        return splitted_string\n",
    "    return wrappe\n",
    "@split_string\n",
    "@strings\n",
    "def info():\n",
    "    return 'Hellow World'\n",
    "\n",
    "info()\n"
   ]
  },
  {
   "cell_type": "code",
   "execution_count": 11,
   "metadata": {},
   "outputs": [],
   "source": [
    "import mysql.connector\n",
    "#importing database\n",
    "database = mysql.connector.connect(\n",
    "    host=\"localhost\",\n",
    "    user=\"root\",\n",
    "    password=\"\"\n",
    ")\n",
    "db = database.cursor() \n",
    "db.execute(\"CREATE DATABASE class10am\")\n"
   ]
  },
  {
   "cell_type": "code",
   "execution_count": 16,
   "metadata": {},
   "outputs": [
    {
     "name": "stdout",
     "output_type": "stream",
     "text": [
      "1 record inserted.\n"
     ]
    }
   ],
   "source": [
    "import mysql.connector\n",
    "mydb = mysql.connector.connect(\n",
    "  host=\"localhost\",\n",
    "  user=\"root\",\n",
    "  passwd=\"\",\n",
    "  database=\"class10am\"\n",
    ")\n",
    "mycursor = mydb.cursor()\n",
    "sql = \"INSERT INTO student(name,age,address,phone) VALUES ('Ram',56,'Kathmandu',9856555434)\"\n",
    "mycursor.execute(sql)\n",
    "mydb.commit()\n",
    "print(mycursor.rowcount, \"record inserted.\")\n"
   ]
  },
  {
   "cell_type": "code",
   "execution_count": null,
   "metadata": {},
   "outputs": [],
   "source": []
  }
 ],
 "metadata": {
  "kernelspec": {
   "display_name": "Python 3",
   "language": "python",
   "name": "python3"
  },
  "language_info": {
   "codemirror_mode": {
    "name": "ipython",
    "version": 3
   },
   "file_extension": ".py",
   "mimetype": "text/x-python",
   "name": "python",
   "nbconvert_exporter": "python",
   "pygments_lexer": "ipython3",
   "version": "3.7.1"
  }
 },
 "nbformat": 4,
 "nbformat_minor": 2
}
